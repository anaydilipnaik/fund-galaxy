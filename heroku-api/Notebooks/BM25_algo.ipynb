{
 "cells": [
  {
   "cell_type": "code",
   "execution_count": null,
   "metadata": {
    "id": "p8wPScaC_aDg"
   },
   "outputs": [],
   "source": [
    "# !pip install rank_bm25 --quiet #install BM25\n",
    "# !pip install --no-binary :all: nmslib #install nmslib\n",
    "# !pip install ftfy\n",
    "import pandas as pd\n",
    "import os\n",
    "import pandas as pd\n",
    "import numpy as np\n",
    "import pickle\n",
    "import spacy\n",
    "from tqdm import tqdm\n",
    "import matplotlib.pyplot as plt\n",
    "from gensim.models.fasttext import FastText\n",
    "from rank_bm25 import BM25Okapi\n",
    "import ftfy\n",
    "import nmslib\n",
    "import time"
   ]
  },
  {
   "cell_type": "code",
   "execution_count": null,
   "metadata": {
    "colab": {
     "base_uri": "https://localhost:8080/"
    },
    "id": "TsOHSHdxjfos",
    "outputId": "778c4eff-e623-4a9e-b623-97bc25e5b49b"
   },
   "outputs": [
    {
     "name": "stdout",
     "output_type": "stream",
     "text": [
      "Mounted at /content/drive\n"
     ]
    }
   ],
   "source": [
    "from google.colab import drive\n",
    "drive.mount('/content/drive')"
   ]
  },
  {
   "cell_type": "code",
   "execution_count": null,
   "metadata": {
    "id": "EP4lm9yBBIWD"
   },
   "outputs": [],
   "source": [
    "pd.set_option('display.max_colwidth', -1)\n",
    "plt.style.use('fivethirtyeight')"
   ]
  },
  {
   "cell_type": "code",
   "execution_count": null,
   "metadata": {
    "id": "GCLz5V1m-lUV"
   },
   "outputs": [],
   "source": [
    "organizations1 = pd.read_csv('/content/drive/MyDrive/data/organizations.csv')\n",
    "organizations2 = pd.read_csv('/content/drive/MyDrive/data/organization_descriptions.csv')"
   ]
  },
  {
   "cell_type": "code",
   "execution_count": null,
   "metadata": {
    "colab": {
     "base_uri": "https://localhost:8080/",
     "height": 581
    },
    "id": "Ij0qYMkAHNtK",
    "outputId": "f474c225-8a8b-4ad6-e253-ab51a75d605a"
   },
   "outputs": [
    {
     "data": {
      "text/html": [
       "<div>\n",
       "<style scoped>\n",
       "    .dataframe tbody tr th:only-of-type {\n",
       "        vertical-align: middle;\n",
       "    }\n",
       "\n",
       "    .dataframe tbody tr th {\n",
       "        vertical-align: top;\n",
       "    }\n",
       "\n",
       "    .dataframe thead th {\n",
       "        text-align: right;\n",
       "    }\n",
       "</style>\n",
       "<table border=\"1\" class=\"dataframe\">\n",
       "  <thead>\n",
       "    <tr style=\"text-align: right;\">\n",
       "      <th></th>\n",
       "      <th>uuid</th>\n",
       "      <th>name</th>\n",
       "      <th>type</th>\n",
       "      <th>permalink</th>\n",
       "      <th>cb_url</th>\n",
       "      <th>rank</th>\n",
       "      <th>created_at</th>\n",
       "      <th>updated_at</th>\n",
       "      <th>legal_name</th>\n",
       "      <th>roles</th>\n",
       "      <th>domain</th>\n",
       "      <th>homepage_url</th>\n",
       "      <th>country_code</th>\n",
       "      <th>state_code</th>\n",
       "      <th>region</th>\n",
       "      <th>city</th>\n",
       "      <th>address</th>\n",
       "      <th>postal_code</th>\n",
       "      <th>status</th>\n",
       "      <th>short_description</th>\n",
       "      <th>category_list</th>\n",
       "      <th>category_groups_list</th>\n",
       "      <th>num_funding_rounds</th>\n",
       "      <th>total_funding_usd</th>\n",
       "      <th>total_funding</th>\n",
       "      <th>total_funding_currency_code</th>\n",
       "      <th>founded_on</th>\n",
       "      <th>last_funding_on</th>\n",
       "      <th>closed_on</th>\n",
       "      <th>employee_count</th>\n",
       "      <th>email</th>\n",
       "      <th>phone</th>\n",
       "      <th>facebook_url</th>\n",
       "      <th>linkedin_url</th>\n",
       "      <th>twitter_url</th>\n",
       "      <th>logo_url</th>\n",
       "      <th>alias1</th>\n",
       "      <th>alias2</th>\n",
       "      <th>alias3</th>\n",
       "      <th>primary_role</th>\n",
       "      <th>num_exits</th>\n",
       "      <th>revenue_range</th>\n",
       "    </tr>\n",
       "  </thead>\n",
       "  <tbody>\n",
       "    <tr>\n",
       "      <th>0</th>\n",
       "      <td>b531d0a8-52dd-4189-91d1-3d7432d78d71</td>\n",
       "      <td>Meridian Entertainment Group</td>\n",
       "      <td>organization</td>\n",
       "      <td>meridian-entertainment-group</td>\n",
       "      <td>https://www.crunchbase.com/organization/meridian-entertainment-group</td>\n",
       "      <td>585500.0</td>\n",
       "      <td>2017-11-10 19:44:02</td>\n",
       "      <td>2019-03-30 01:33:40</td>\n",
       "      <td>NaN</td>\n",
       "      <td>company</td>\n",
       "      <td>meridianconcerts.com</td>\n",
       "      <td>http://meridianconcerts.com</td>\n",
       "      <td>NaN</td>\n",
       "      <td>NaN</td>\n",
       "      <td>NaN</td>\n",
       "      <td>NaN</td>\n",
       "      <td>NaN</td>\n",
       "      <td>NaN</td>\n",
       "      <td>operating</td>\n",
       "      <td>Meridian Entertainment Group provides with event and entertainment consultation, programming and management services in Michigan.</td>\n",
       "      <td>Consulting,Events</td>\n",
       "      <td>Events,Media and Entertainment</td>\n",
       "      <td>NaN</td>\n",
       "      <td>NaN</td>\n",
       "      <td>NaN</td>\n",
       "      <td>NaN</td>\n",
       "      <td>NaN</td>\n",
       "      <td>NaN</td>\n",
       "      <td>NaN</td>\n",
       "      <td>1-10</td>\n",
       "      <td>info@meridianconcerts.com</td>\n",
       "      <td>231-935-3900</td>\n",
       "      <td>https://www.facebook.com/meridianentertainmentgroup</td>\n",
       "      <td>NaN</td>\n",
       "      <td>https://www.twitter.com/meridianconcert</td>\n",
       "      <td>https://crunchbase-production-res.cloudinary.com/image/upload/c_lpad,h_120,w_120,f_jpg/v1509753042/iirm0g9yl4qxexn8uooc.jpg</td>\n",
       "      <td>NaN</td>\n",
       "      <td>NaN</td>\n",
       "      <td>NaN</td>\n",
       "      <td>company</td>\n",
       "      <td>NaN</td>\n",
       "      <td>NaN</td>\n",
       "    </tr>\n",
       "    <tr>\n",
       "      <th>1</th>\n",
       "      <td>094dbc9c-ca77-ec1c-4a92-be1092ef1052</td>\n",
       "      <td>RushRate</td>\n",
       "      <td>organization</td>\n",
       "      <td>rushrate</td>\n",
       "      <td>https://www.crunchbase.com/organization/rushrate</td>\n",
       "      <td>602764.0</td>\n",
       "      <td>2016-11-14 11:59:52</td>\n",
       "      <td>2018-02-12 23:27:40</td>\n",
       "      <td>NaN</td>\n",
       "      <td>company</td>\n",
       "      <td>NaN</td>\n",
       "      <td>NaN</td>\n",
       "      <td>NaN</td>\n",
       "      <td>NaN</td>\n",
       "      <td>NaN</td>\n",
       "      <td>NaN</td>\n",
       "      <td>NaN</td>\n",
       "      <td>NaN</td>\n",
       "      <td>operating</td>\n",
       "      <td>Ranking potential members of a fraternity.</td>\n",
       "      <td>Communities,Internet</td>\n",
       "      <td>Community and Lifestyle,Internet Services</td>\n",
       "      <td>1.0</td>\n",
       "      <td>NaN</td>\n",
       "      <td>NaN</td>\n",
       "      <td>NaN</td>\n",
       "      <td>NaN</td>\n",
       "      <td>2016-10-01</td>\n",
       "      <td>NaN</td>\n",
       "      <td>unknown</td>\n",
       "      <td>NaN</td>\n",
       "      <td>NaN</td>\n",
       "      <td>NaN</td>\n",
       "      <td>NaN</td>\n",
       "      <td>NaN</td>\n",
       "      <td>https://crunchbase-production-res.cloudinary.com/image/upload/h_120,w_120,f_jpg/v1507847753/placeholder_zgpxrr.png</td>\n",
       "      <td>NaN</td>\n",
       "      <td>NaN</td>\n",
       "      <td>NaN</td>\n",
       "      <td>company</td>\n",
       "      <td>NaN</td>\n",
       "      <td>NaN</td>\n",
       "    </tr>\n",
       "    <tr>\n",
       "      <th>2</th>\n",
       "      <td>d103ef85-1ac5-e952-2784-1d8f321aa0b3</td>\n",
       "      <td>Bishop Canevin High School</td>\n",
       "      <td>organization</td>\n",
       "      <td>bishop-canevin-high-school</td>\n",
       "      <td>https://www.crunchbase.com/organization/bishop-canevin-high-school</td>\n",
       "      <td>483700.0</td>\n",
       "      <td>2016-05-18 18:53:33</td>\n",
       "      <td>2018-10-26 21:47:45</td>\n",
       "      <td>NaN</td>\n",
       "      <td>school</td>\n",
       "      <td>bishopcanevin.org</td>\n",
       "      <td>http://bishopcanevin.org/</td>\n",
       "      <td>USA</td>\n",
       "      <td>PA</td>\n",
       "      <td>Pennsylvania</td>\n",
       "      <td>Pittsburgh</td>\n",
       "      <td>2700 Morange Road</td>\n",
       "      <td>15205</td>\n",
       "      <td>operating</td>\n",
       "      <td>Bishop Canevin High School is a Catholic high school in Pittsburgh, Pennsylvania.</td>\n",
       "      <td>E-Learning,Education,Higher Education</td>\n",
       "      <td>Education,Software</td>\n",
       "      <td>NaN</td>\n",
       "      <td>NaN</td>\n",
       "      <td>NaN</td>\n",
       "      <td>NaN</td>\n",
       "      <td>1958-08-17</td>\n",
       "      <td>NaN</td>\n",
       "      <td>NaN</td>\n",
       "      <td>101-250</td>\n",
       "      <td>info@bishopcanevin.org</td>\n",
       "      <td>412.456.3000</td>\n",
       "      <td>https://www.facebook.com/bishopcanevin</td>\n",
       "      <td>https://www.linkedin.com/company/bishop-canevin-high-school</td>\n",
       "      <td>https://twitter.com/bishopcanevin</td>\n",
       "      <td>https://crunchbase-production-res.cloudinary.com/image/upload/c_lpad,h_120,w_120,f_jpg/v1463597520/imq2izxki4y29jkynpit.jpg</td>\n",
       "      <td>NaN</td>\n",
       "      <td>NaN</td>\n",
       "      <td>NaN</td>\n",
       "      <td>school</td>\n",
       "      <td>NaN</td>\n",
       "      <td>NaN</td>\n",
       "    </tr>\n",
       "    <tr>\n",
       "      <th>3</th>\n",
       "      <td>0fbfb7ac-4015-1561-6d42-ec9c4a87a324</td>\n",
       "      <td>Paladina Health</td>\n",
       "      <td>organization</td>\n",
       "      <td>paladina-health</td>\n",
       "      <td>https://www.crunchbase.com/organization/paladina-health</td>\n",
       "      <td>7675.0</td>\n",
       "      <td>2016-09-02 08:49:36</td>\n",
       "      <td>2018-10-26 23:08:51</td>\n",
       "      <td>NaN</td>\n",
       "      <td>company</td>\n",
       "      <td>paladinahealth.com</td>\n",
       "      <td>http://www.paladinahealth.com</td>\n",
       "      <td>USA</td>\n",
       "      <td>CO</td>\n",
       "      <td>Colorado</td>\n",
       "      <td>Denver</td>\n",
       "      <td>1551 Wewatta Street</td>\n",
       "      <td>80202</td>\n",
       "      <td>acquired</td>\n",
       "      <td>Paladina Health is an innovative employer-sponsored healthcare provider.</td>\n",
       "      <td>Health Care,Hospital,Medical,Personal Health</td>\n",
       "      <td>Health Care</td>\n",
       "      <td>1.0</td>\n",
       "      <td>165000000.0</td>\n",
       "      <td>165000000.0</td>\n",
       "      <td>USD</td>\n",
       "      <td>2010-01-01</td>\n",
       "      <td>2018-08-23</td>\n",
       "      <td>NaN</td>\n",
       "      <td>11-50</td>\n",
       "      <td>memberservices@paladinahealth.com</td>\n",
       "      <td>303-405-2100</td>\n",
       "      <td>https://www.facebook.com/206019739569801</td>\n",
       "      <td>https://www.linkedin.com/company/paladina-health</td>\n",
       "      <td>https://www.twitter.com/paladinahealth</td>\n",
       "      <td>https://crunchbase-production-res.cloudinary.com/image/upload/c_lpad,h_120,w_120,f_jpg/v1472806170/sm4hopceixrj5dtprlwq.png</td>\n",
       "      <td>NaN</td>\n",
       "      <td>NaN</td>\n",
       "      <td>NaN</td>\n",
       "      <td>company</td>\n",
       "      <td>NaN</td>\n",
       "      <td>NaN</td>\n",
       "    </tr>\n",
       "    <tr>\n",
       "      <th>4</th>\n",
       "      <td>1ec47fa1-0727-4a87-b872-7128ec94e7cd</td>\n",
       "      <td>Spire Group</td>\n",
       "      <td>organization</td>\n",
       "      <td>spire-group-pc</td>\n",
       "      <td>https://www.crunchbase.com/organization/spire-group-pc</td>\n",
       "      <td>520650.0</td>\n",
       "      <td>2018-12-17 09:57:58</td>\n",
       "      <td>2018-12-17 10:02:14</td>\n",
       "      <td>NaN</td>\n",
       "      <td>company</td>\n",
       "      <td>spirecpa.com</td>\n",
       "      <td>http://www.spirecpa.com</td>\n",
       "      <td>USA</td>\n",
       "      <td>NJ</td>\n",
       "      <td>New Jersey</td>\n",
       "      <td>Clark</td>\n",
       "      <td>100 Walnut Avenue Suite 103</td>\n",
       "      <td>07066</td>\n",
       "      <td>acquired</td>\n",
       "      <td>Spire Group is a full-service accounting and consulting firm.</td>\n",
       "      <td>Accounting,Consulting</td>\n",
       "      <td>Financial Services,Professional Services</td>\n",
       "      <td>NaN</td>\n",
       "      <td>NaN</td>\n",
       "      <td>NaN</td>\n",
       "      <td>NaN</td>\n",
       "      <td>NaN</td>\n",
       "      <td>NaN</td>\n",
       "      <td>NaN</td>\n",
       "      <td>unknown</td>\n",
       "      <td>NaN</td>\n",
       "      <td>NaN</td>\n",
       "      <td>NaN</td>\n",
       "      <td>https://www.linkedin.com/company/spire-group-pc/</td>\n",
       "      <td>NaN</td>\n",
       "      <td>https://crunchbase-production-res.cloudinary.com/image/upload/c_lpad,h_120,w_120,f_jpg/ol6rfg6u7wzut0fp9g2d</td>\n",
       "      <td>NaN</td>\n",
       "      <td>NaN</td>\n",
       "      <td>NaN</td>\n",
       "      <td>company</td>\n",
       "      <td>NaN</td>\n",
       "      <td>NaN</td>\n",
       "    </tr>\n",
       "  </tbody>\n",
       "</table>\n",
       "</div>"
      ],
      "text/plain": [
       "                                   uuid  ... revenue_range\n",
       "0  b531d0a8-52dd-4189-91d1-3d7432d78d71  ...  NaN         \n",
       "1  094dbc9c-ca77-ec1c-4a92-be1092ef1052  ...  NaN         \n",
       "2  d103ef85-1ac5-e952-2784-1d8f321aa0b3  ...  NaN         \n",
       "3  0fbfb7ac-4015-1561-6d42-ec9c4a87a324  ...  NaN         \n",
       "4  1ec47fa1-0727-4a87-b872-7128ec94e7cd  ...  NaN         \n",
       "\n",
       "[5 rows x 42 columns]"
      ]
     },
     "execution_count": 7,
     "metadata": {},
     "output_type": "execute_result"
    }
   ],
   "source": [
    "organizations1.head()"
   ]
  },
  {
   "cell_type": "code",
   "execution_count": null,
   "metadata": {
    "colab": {
     "base_uri": "https://localhost:8080/",
     "height": 646
    },
    "id": "XIJQtp-PHNpz",
    "outputId": "f45d7d8d-5b51-4390-c2c5-1e314933e4c4"
   },
   "outputs": [
    {
     "data": {
      "text/html": [
       "<div>\n",
       "<style scoped>\n",
       "    .dataframe tbody tr th:only-of-type {\n",
       "        vertical-align: middle;\n",
       "    }\n",
       "\n",
       "    .dataframe tbody tr th {\n",
       "        vertical-align: top;\n",
       "    }\n",
       "\n",
       "    .dataframe thead th {\n",
       "        text-align: right;\n",
       "    }\n",
       "</style>\n",
       "<table border=\"1\" class=\"dataframe\">\n",
       "  <thead>\n",
       "    <tr style=\"text-align: right;\">\n",
       "      <th></th>\n",
       "      <th>uuid</th>\n",
       "      <th>name</th>\n",
       "      <th>type</th>\n",
       "      <th>permalink</th>\n",
       "      <th>cb_url</th>\n",
       "      <th>rank</th>\n",
       "      <th>created_at</th>\n",
       "      <th>updated_at</th>\n",
       "      <th>description</th>\n",
       "    </tr>\n",
       "  </thead>\n",
       "  <tbody>\n",
       "    <tr>\n",
       "      <th>0</th>\n",
       "      <td>65c154f7-8992-4c2e-99c4-e755089987c8</td>\n",
       "      <td>Old Liquors Invest</td>\n",
       "      <td>organization</td>\n",
       "      <td>old-liquors-invest</td>\n",
       "      <td>https://www.crunchbase.com/organization/old-liquors-invest</td>\n",
       "      <td>310817.0</td>\n",
       "      <td>2019-01-25 11:49:42</td>\n",
       "      <td>2019-02-14 01:18:05</td>\n",
       "      <td>The Corporate bonds Series OLI-III-B is offered by Old Liquors Invest III B.V. The issuer has as its principal activity the speculative investing in old beverages such as Whiskey, Cognac, Armagnac, Port, Liqueurs, Madeira wines, and other rare and old or special alcoholic beverages.</td>\n",
       "    </tr>\n",
       "    <tr>\n",
       "      <th>1</th>\n",
       "      <td>bd565ade-4b23-4bb0-b965-97fb95b95775</td>\n",
       "      <td>Padoq</td>\n",
       "      <td>organization</td>\n",
       "      <td>padoq</td>\n",
       "      <td>https://www.crunchbase.com/organization/padoq</td>\n",
       "      <td>41514.0</td>\n",
       "      <td>2017-10-09 11:59:00</td>\n",
       "      <td>2018-05-02 09:27:38</td>\n",
       "      <td>Padoq is a community network platform revolutionising the way communities interact, engage, and make payments online. Launching - June 2018.</td>\n",
       "    </tr>\n",
       "    <tr>\n",
       "      <th>2</th>\n",
       "      <td>5a6370b5-1176-473f-a27d-49e75cd49edf</td>\n",
       "      <td>Mainland</td>\n",
       "      <td>organization</td>\n",
       "      <td>mainland</td>\n",
       "      <td>https://www.crunchbase.com/organization/mainland</td>\n",
       "      <td>340555.0</td>\n",
       "      <td>2018-06-19 04:07:17</td>\n",
       "      <td>2018-10-26 22:44:46</td>\n",
       "      <td>Enrich lives. That's what we're all about. It's the reason we come to work every day. It's the life blood that flows through all aspects of the company. Loneliness sucks. Everyone knows this because everyone has experienced it at one point or another. But if someone doesn't want to be lonely and truly want more friends, shouldn't there be an easy way to make that happen? Well we think so.  How do we enrich lives? By simply bringing people together. A new best friend could be right around the corner.  So join us. Because here at Mainland we understand no one's and island.</td>\n",
       "    </tr>\n",
       "    <tr>\n",
       "      <th>3</th>\n",
       "      <td>8b8fe41c-07dc-4039-b311-022381af39f5</td>\n",
       "      <td>Kaffeen</td>\n",
       "      <td>organization</td>\n",
       "      <td>kaffeen</td>\n",
       "      <td>https://www.crunchbase.com/organization/kaffeen</td>\n",
       "      <td>63096.0</td>\n",
       "      <td>2019-04-01 17:14:25</td>\n",
       "      <td>2019-04-01 23:14:03</td>\n",
       "      <td>Kaffeen mobile application is the first mobile application in Saudi Arabia that is specialized in online coffee ordering. It allows users to order/pre-order their coffee online and pick it up, with no extra charge, from the pick-up counter. If want to save time, or simply do not want to wait in line, Kaffeen is your go-to mobile application.</td>\n",
       "    </tr>\n",
       "    <tr>\n",
       "      <th>4</th>\n",
       "      <td>786293a8-f675-40d8-8516-430c8f4c236a</td>\n",
       "      <td>Webstage</td>\n",
       "      <td>organization</td>\n",
       "      <td>webstage</td>\n",
       "      <td>https://www.crunchbase.com/organization/webstage</td>\n",
       "      <td>442866.0</td>\n",
       "      <td>2018-02-13 05:20:36</td>\n",
       "      <td>2019-03-25 20:27:17</td>\n",
       "      <td>WebStage is a Target Fuel technology that was born when experts in the fields of online marketing, website personalization and web analytics teamed up to make website marketing less “technical”. Websites have always presented a challenge for marketers who don’t have a computer science degree. Most of the time, someone else codes the website, someone else oversees the website, and someone else owns the website! WebStage provides easy ways to personalize content without delays or technical expertise. It allows any marketer to quickly and easily add or alter web content to keep on-site visitors informed and engaged. In minutes, marketers can launch personalized content on any number of pages for different target audiences - a task that typically takes weeks and cost thousands.</td>\n",
       "    </tr>\n",
       "  </tbody>\n",
       "</table>\n",
       "</div>"
      ],
      "text/plain": [
       "                                   uuid  ...                                                                                                                                                                                                                                                                                                                                                                                                                                                                                                                                                                                                                                                                                                                                                                                                        description\n",
       "0  65c154f7-8992-4c2e-99c4-e755089987c8  ...  The Corporate bonds Series OLI-III-B is offered by Old Liquors Invest III B.V. The issuer has as its principal activity the speculative investing in old beverages such as Whiskey, Cognac, Armagnac, Port, Liqueurs, Madeira wines, and other rare and old or special alcoholic beverages.                                                                                                                                                                                                                                                                                                                                                                                                                                                                                                                      \n",
       "1  bd565ade-4b23-4bb0-b965-97fb95b95775  ...  Padoq is a community network platform revolutionising the way communities interact, engage, and make payments online. Launching - June 2018.                                                                                                                                                                                                                                                                                                                                                                                                                                                                                                                                                                                                                                                                     \n",
       "2  5a6370b5-1176-473f-a27d-49e75cd49edf  ...  Enrich lives. That's what we're all about. It's the reason we come to work every day. It's the life blood that flows through all aspects of the company. Loneliness sucks. Everyone knows this because everyone has experienced it at one point or another. But if someone doesn't want to be lonely and truly want more friends, shouldn't there be an easy way to make that happen? Well we think so.  How do we enrich lives? By simply bringing people together. A new best friend could be right around the corner.  So join us. Because here at Mainland we understand no one's and island.                                                                                                                                                                                                                \n",
       "3  8b8fe41c-07dc-4039-b311-022381af39f5  ...  Kaffeen mobile application is the first mobile application in Saudi Arabia that is specialized in online coffee ordering. It allows users to order/pre-order their coffee online and pick it up, with no extra charge, from the pick-up counter. If want to save time, or simply do not want to wait in line, Kaffeen is your go-to mobile application.                                                                                                                                                                                                                                                                                                                                                                                                                                                          \n",
       "4  786293a8-f675-40d8-8516-430c8f4c236a  ...  WebStage is a Target Fuel technology that was born when experts in the fields of online marketing, website personalization and web analytics teamed up to make website marketing less “technical”. Websites have always presented a challenge for marketers who don’t have a computer science degree. Most of the time, someone else codes the website, someone else oversees the website, and someone else owns the website! WebStage provides easy ways to personalize content without delays or technical expertise. It allows any marketer to quickly and easily add or alter web content to keep on-site visitors informed and engaged. In minutes, marketers can launch personalized content on any number of pages for different target audiences - a task that typically takes weeks and cost thousands. \n",
       "\n",
       "[5 rows x 9 columns]"
      ]
     },
     "execution_count": 8,
     "metadata": {},
     "output_type": "execute_result"
    }
   ],
   "source": [
    "organizations2.head()"
   ]
  },
  {
   "cell_type": "code",
   "execution_count": null,
   "metadata": {
    "id": "Gf_2qUCXHNoL"
   },
   "outputs": [],
   "source": [
    "org1_cols = ['uuid','name','type','permalink','rank','short_description','domain','num_funding_rounds','total_funding','total_funding_currency_code','founded_on','employee_count']\n",
    "org2_cols =['uuid','name','type','permalink','rank','description']\n",
    "org1 = organizations1[org1_cols]\n",
    "org2 = organizations2[org2_cols]"
   ]
  },
  {
   "cell_type": "code",
   "execution_count": null,
   "metadata": {
    "id": "HFO4niTHHNlK"
   },
   "outputs": [],
   "source": [
    "org1 = org1.rename(columns = {'short_description':'description'})"
   ]
  },
  {
   "cell_type": "code",
   "execution_count": null,
   "metadata": {
    "id": "BMSQ80P1HNi1"
   },
   "outputs": [],
   "source": [
    "final_orgs = pd.concat([org1,org2])\n",
    "final_orgs = final_orgs.reset_index()"
   ]
  },
  {
   "cell_type": "code",
   "execution_count": null,
   "metadata": {
    "colab": {
     "base_uri": "https://localhost:8080/"
    },
    "id": "Bt3e-fm1HNgg",
    "outputId": "1c246700-c02e-4d31-da80-6c92410cf55f"
   },
   "outputs": [
    {
     "data": {
      "text/plain": [
       "index                          50 \n",
       "uuid                           100\n",
       "name                           100\n",
       "type                           1  \n",
       "permalink                      100\n",
       "rank                           100\n",
       "description                    100\n",
       "domain                         47 \n",
       "num_funding_rounds             3  \n",
       "total_funding                  7  \n",
       "total_funding_currency_code    3  \n",
       "founded_on                     32 \n",
       "employee_count                 8  \n",
       "dtype: int64"
      ]
     },
     "execution_count": 22,
     "metadata": {},
     "output_type": "execute_result"
    }
   ],
   "source": [
    "final_orgs.nunique()"
   ]
  },
  {
   "cell_type": "code",
   "execution_count": null,
   "metadata": {
    "colab": {
     "base_uri": "https://localhost:8080/"
    },
    "id": "en_8DISFH8WO",
    "outputId": "9bda51f7-1c9d-47e0-bf38-8f183057543a"
   },
   "outputs": [
    {
     "name": "stdout",
     "output_type": "stream",
     "text": [
      "<class 'pandas.core.frame.DataFrame'>\n",
      "RangeIndex: 100 entries, 0 to 99\n",
      "Data columns (total 13 columns):\n",
      " #   Column                       Non-Null Count  Dtype  \n",
      "---  ------                       --------------  -----  \n",
      " 0   index                        100 non-null    int64  \n",
      " 1   uuid                         100 non-null    object \n",
      " 2   name                         100 non-null    object \n",
      " 3   type                         100 non-null    object \n",
      " 4   permalink                    100 non-null    object \n",
      " 5   rank                         100 non-null    float64\n",
      " 6   description                  100 non-null    object \n",
      " 7   domain                       47 non-null     object \n",
      " 8   num_funding_rounds           13 non-null     float64\n",
      " 9   total_funding                7 non-null      float64\n",
      " 10  total_funding_currency_code  7 non-null      object \n",
      " 11  founded_on                   36 non-null     object \n",
      " 12  employee_count               50 non-null     object \n",
      "dtypes: float64(3), int64(1), object(9)\n",
      "memory usage: 10.3+ KB\n"
     ]
    }
   ],
   "source": [
    "final_orgs.info()"
   ]
  },
  {
   "cell_type": "code",
   "execution_count": null,
   "metadata": {
    "id": "ZZexJf9YH-Dn"
   },
   "outputs": [],
   "source": [
    "df = final_orgs.copy()"
   ]
  },
  {
   "cell_type": "code",
   "execution_count": null,
   "metadata": {
    "id": "ITOdUdMvrj9L"
   },
   "outputs": [],
   "source": [
    "df = df.fillna('Not Registered')"
   ]
  },
  {
   "cell_type": "code",
   "execution_count": null,
   "metadata": {
    "colab": {
     "base_uri": "https://localhost:8080/"
    },
    "id": "aJW8zS6BIS26",
    "outputId": "2a375882-9d30-4a26-eb60-90eed24eeab3"
   },
   "outputs": [
    {
     "data": {
      "text/plain": [
       "(100, 14)"
      ]
     },
     "execution_count": 158,
     "metadata": {},
     "output_type": "execute_result"
    }
   ],
   "source": [
    "df['text'] = df['name'] + ' ' + df['permalink']+ ' ' + df['description'] + ' ' + df['uuid']\n",
    "df.shape"
   ]
  },
  {
   "cell_type": "code",
   "execution_count": null,
   "metadata": {
    "colab": {
     "base_uri": "https://localhost:8080/",
     "height": 216
    },
    "id": "0wy-Vj26Iq95",
    "outputId": "aaa0f565-9c67-48ed-cb21-e9a6ed9b4c60"
   },
   "outputs": [
    {
     "data": {
      "text/html": [
       "<div>\n",
       "<style scoped>\n",
       "    .dataframe tbody tr th:only-of-type {\n",
       "        vertical-align: middle;\n",
       "    }\n",
       "\n",
       "    .dataframe tbody tr th {\n",
       "        vertical-align: top;\n",
       "    }\n",
       "\n",
       "    .dataframe thead th {\n",
       "        text-align: right;\n",
       "    }\n",
       "</style>\n",
       "<table border=\"1\" class=\"dataframe\">\n",
       "  <thead>\n",
       "    <tr style=\"text-align: right;\">\n",
       "      <th></th>\n",
       "      <th>index</th>\n",
       "      <th>uuid</th>\n",
       "      <th>name</th>\n",
       "      <th>type</th>\n",
       "      <th>permalink</th>\n",
       "      <th>rank</th>\n",
       "      <th>description</th>\n",
       "      <th>domain</th>\n",
       "      <th>num_funding_rounds</th>\n",
       "      <th>total_funding</th>\n",
       "      <th>total_funding_currency_code</th>\n",
       "      <th>founded_on</th>\n",
       "      <th>employee_count</th>\n",
       "      <th>text</th>\n",
       "    </tr>\n",
       "  </thead>\n",
       "  <tbody>\n",
       "    <tr>\n",
       "      <th>0</th>\n",
       "      <td>0</td>\n",
       "      <td>b531d0a8-52dd-4189-91d1-3d7432d78d71</td>\n",
       "      <td>Meridian Entertainment Group</td>\n",
       "      <td>organization</td>\n",
       "      <td>meridian-entertainment-group</td>\n",
       "      <td>585500.0</td>\n",
       "      <td>Meridian Entertainment Group provides with event and entertainment consultation, programming and management services in Michigan.</td>\n",
       "      <td>meridianconcerts.com</td>\n",
       "      <td>Not Registered</td>\n",
       "      <td>Not Registered</td>\n",
       "      <td>Not Registered</td>\n",
       "      <td>Not Registered</td>\n",
       "      <td>1-10</td>\n",
       "      <td>Meridian Entertainment Group meridian-entertainment-group Meridian Entertainment Group provides with event and entertainment consultation, programming and management services in Michigan. b531d0a8-52dd-4189-91d1-3d7432d78d71</td>\n",
       "    </tr>\n",
       "  </tbody>\n",
       "</table>\n",
       "</div>"
      ],
      "text/plain": [
       "   index  ...                                                                                                                                                                                                                              text\n",
       "0  0      ...  Meridian Entertainment Group meridian-entertainment-group Meridian Entertainment Group provides with event and entertainment consultation, programming and management services in Michigan. b531d0a8-52dd-4189-91d1-3d7432d78d71\n",
       "\n",
       "[1 rows x 14 columns]"
      ]
     },
     "execution_count": 159,
     "metadata": {},
     "output_type": "execute_result"
    }
   ],
   "source": [
    "df.head(1)"
   ]
  },
  {
   "cell_type": "markdown",
   "metadata": {
    "id": "rcxILy2uI2wN"
   },
   "source": [
    "### Preprocess and tokenise"
   ]
  },
  {
   "cell_type": "code",
   "execution_count": null,
   "metadata": {
    "colab": {
     "base_uri": "https://localhost:8080/"
    },
    "id": "_qfnAC2nQwWD",
    "outputId": "a957f8e4-a2d7-4b12-d776-a4985b2e081e"
   },
   "outputs": [
    {
     "name": "stderr",
     "output_type": "stream",
     "text": [
      "100it [00:00, 783.91it/s]\n"
     ]
    }
   ],
   "source": [
    "nlp = spacy.load(\"en_core_web_sm\")\n",
    "text_list = df.text.str.lower().values\n",
    "tok_text=[] # for our tokenised corpus\n",
    "#Tokenising using SpaCy:\n",
    "for doc in tqdm(nlp.pipe(text_list, disable=[\"tagger\", \"parser\",\"ner\"])):\n",
    "   tok = [t.text for t in doc if t.is_alpha]\n",
    "   tok_text.append(tok)"
   ]
  },
  {
   "cell_type": "markdown",
   "metadata": {
    "id": "IKsioaM91jGF"
   },
   "source": [
    "#### Simple Search using BM25 Algorithm"
   ]
  },
  {
   "cell_type": "code",
   "execution_count": null,
   "metadata": {
    "id": "yaVtDr-DQwZx"
   },
   "outputs": [],
   "source": [
    "bm25 = BM25Okapi(tok_text)"
   ]
  },
  {
   "cell_type": "code",
   "execution_count": 188,
   "metadata": {
    "id": "0jZuyFlSQwbg"
   },
   "outputs": [],
   "source": [
    "def search1(query):\n",
    "  Results = {}\n",
    "  tokenized_query = query.lower().split(\" \")\n",
    "  import time\n",
    "  t0 = time.time()\n",
    "  results = bm25.get_top_n(tokenized_query, df['text'].values, n=3)\n",
    "  t1 = time.time()\n",
    "  print(f'Searched 100 records in {round(t1-t0,3) } seconds \\n')\n",
    "  for i in results:\n",
    "\n",
    "    Companies = {}\n",
    "    uuid = df[df['text']==i]['uuid'].values[0]\n",
    "    name = df[df['text']==i]['name'].values[0]\n",
    "    description = df[df['text']==i]['description'].values[0]\n",
    "    domain = df[df['text']==i]['domain'].values[0]\n",
    "    totalFunding = df[df['text']==i]['total_funding'].values[0]\n",
    "    num_funding_rounds = df[df['text']==i]['num_funding_rounds'].values[0]\n",
    "    Total_funding_currency_code = df[df['text']==i]['total_funding_currency_code'].values[0]\n",
    "    Founded_on = df[df['text']==i]['founded_on'].values[0]\n",
    "    employee_count = df[df['text']==i]['employee_count'].values[0]\n",
    "\n",
    "    Companies['UUID'] = uuid\n",
    "    Companies['Name']= name\n",
    "    Companies['Description']= description\n",
    "    Companies['Domain']= domain\n",
    "    Companies['Total_Funding']= totalFunding\n",
    "    Companies['Num_Funding_Rounds']= num_funding_rounds\n",
    "    Companies['Total_Funding_Currency_Code']= Total_funding_currency_code\n",
    "    Companies['Founded_On']= Founded_on\n",
    "    Companies['Employee_Count']= employee_count\n",
    "\n",
    "    Results[name] = Companies\n",
    "\n",
    "  print(\"======Search Results=========\")\n",
    "  for m,n in enumerate(Results):\n",
    "    print(f\"\\nResult {m+1}:\")\n",
    "    print(n, Results[n])"
   ]
  },
  {
   "cell_type": "code",
   "execution_count": 189,
   "metadata": {
    "colab": {
     "base_uri": "https://localhost:8080/"
    },
    "id": "9jKhzxmvcQyr",
    "outputId": "606a1e46-2056-421f-c508-0e6427b772f4"
   },
   "outputs": [
    {
     "name": "stdout",
     "output_type": "stream",
     "text": [
      "Searched 100 records in 0.001 seconds \n",
      "\n",
      "======Search Results=========\n",
      "\n",
      "Result 1:\n",
      "Eureka King Inc. {'UUID': 'a6e51ef4-29f0-f852-d1c4-e72207533c57', 'Name': 'Eureka King Inc.', 'Description': \"Eureka king enables publishers to maximize the life-time value of their users across web and mobile, by delivering actionable, responsive and sequential user notifications throughout the user journey. In 2014, companies spent $46 BN to acquire traffic to their websites. However, less than 10% of traffic yielded long-term value for the businesses. We engineered Eureka King to guide your visitors through a deliberate user journey, mapped for maximum value.  Eureka King's behavior-tracking engine analyzes users actions and intent in Real-time to deliver optimal user-prompts. Our dynamic user-prompts adapt to the users' journey and enables publishers to intelligently promote a product, encourage signups, transact payments, and a variety of transactions customized for the publisher’s needs. Using our SaaS platform, clients were able to boost conversion rates by 3x, and retention rates by 2x. Clients include KQED, The Associated Press, IDEO, PBS MediaShift etc\", 'Domain': 'Not Registered', 'Total_Funding': 'Not Registered', 'Num_Funding_Rounds': 'Not Registered', 'Total_Funding_Currency_Code': 'Not Registered', 'Founded_On': 'Not Registered', 'Employee_Count': 'Not Registered'}\n",
      "\n",
      "Result 2:\n",
      "Promasidor {'UUID': '5ff66b4e-2705-8f4a-5076-4123ce87caa7', 'Name': 'Promasidor', 'Description': 'Promasidor manufactures and supplies seasonings and processed foods in 36 countries throughout Africa. It produces and sells powdered beverages, flavor seasonings, powdered milk, cereals, and other food products.  Promasidor mainly operates in Nigeria, the Democratic Republic of the Congo, Ghana, Algeria, and Angola.  Promasidor was founded in 1979 by Robert Rose.', 'Domain': 'Not Registered', 'Total_Funding': 'Not Registered', 'Num_Funding_Rounds': 'Not Registered', 'Total_Funding_Currency_Code': 'Not Registered', 'Founded_On': 'Not Registered', 'Employee_Count': 'Not Registered'}\n",
      "\n",
      "Result 3:\n",
      "Whynatte Enterprises {'UUID': '634f4620-10bf-400e-8ef6-3875a260e46e', 'Name': 'Whynatte Enterprises', 'Description': 'Whynatte Enterprises is a beverage company that produces and sells ready-to-drink coffees.', 'Domain': 'whynatte.com', 'Total_Funding': 'Not Registered', 'Num_Funding_Rounds': 1.0, 'Total_Funding_Currency_Code': 'Not Registered', 'Founded_On': '2009-01-01', 'Employee_Count': '1-10'}\n"
     ]
    }
   ],
   "source": [
    "search1('Eureka')"
   ]
  },
  {
   "cell_type": "code",
   "execution_count": 190,
   "metadata": {
    "colab": {
     "base_uri": "https://localhost:8080/"
    },
    "id": "Yb75bwFnbRi8",
    "outputId": "854cd06a-34b4-4e86-baaf-a96cd9a362cd"
   },
   "outputs": [
    {
     "name": "stdout",
     "output_type": "stream",
     "text": [
      "Searched 100 records in 0.001 seconds \n",
      "\n",
      "======Search Results=========\n",
      "\n",
      "Result 1:\n",
      "Spire Group {'UUID': '1ec47fa1-0727-4a87-b872-7128ec94e7cd', 'Name': 'Spire Group', 'Description': 'Spire Group is a full-service accounting and consulting firm.', 'Domain': 'spirecpa.com', 'Total_Funding': 'Not Registered', 'Num_Funding_Rounds': 'Not Registered', 'Total_Funding_Currency_Code': 'Not Registered', 'Founded_On': 'Not Registered', 'Employee_Count': 'unknown'}\n",
      "\n",
      "Result 2:\n",
      "Binary Mango {'UUID': '758f0b00-65fc-8dae-f38a-fa4bbb01a4c9', 'Name': 'Binary Mango', 'Description': 'Hi-tech Development Firm', 'Domain': 'thebinarymango.com', 'Total_Funding': 'Not Registered', 'Num_Funding_Rounds': 'Not Registered', 'Total_Funding_Currency_Code': 'Not Registered', 'Founded_On': '2016-09-06', 'Employee_Count': 'unknown'}\n",
      "\n",
      "Result 3:\n",
      "ALBERT {'UUID': 'daa9dd72-86f3-bafd-c9ec-88fb18eeed2a', 'Name': 'ALBERT', 'Description': 'ALBERT offers businesses with analytics and consulting services to assist them in their business decision making.', 'Domain': 'albert2005.co.jp', 'Total_Funding': 2409890000.0, 'Num_Funding_Rounds': 1.0, 'Total_Funding_Currency_Code': 'JPY', 'Founded_On': '2005-07-01', 'Employee_Count': 'unknown'}\n"
     ]
    }
   ],
   "source": [
    "search1('Consulting firm')"
   ]
  },
  {
   "cell_type": "code",
   "execution_count": 187,
   "metadata": {
    "colab": {
     "base_uri": "https://localhost:8080/"
    },
    "id": "xRssaa4hajoH",
    "outputId": "d0c75ba9-aeaf-4ed1-cc3c-fda0e59a1d51"
   },
   "outputs": [
    {
     "name": "stdout",
     "output_type": "stream",
     "text": [
      "Searched 100 records in 0.0 seconds \n",
      "\n",
      "======Search Results=========\n",
      "\n",
      "Result 1:\n",
      "Old Liquors Invest {'UUID': '65c154f7-8992-4c2e-99c4-e755089987c8', 'Name': 'Old Liquors Invest', 'Description': 'The Corporate bonds Series OLI-III-B is offered by Old Liquors Invest III B.V. The issuer has as its principal activity the speculative investing in old beverages such as Whiskey, Cognac, Armagnac, Port, Liqueurs, Madeira wines, and other rare and old or special alcoholic beverages.', 'Domain': 'Not Registered', 'Total_Funding': 'Not Registered', 'Num_Funding_Rounds': 'Not Registered', 'Total_Funding_Currency_Code': 'Not Registered', 'Founded_On': 'Not Registered', 'Employee_Count': 'Not Registered'}\n",
      "\n",
      "Result 2:\n",
      "Fully Functional {'UUID': '1f19206c-6ec6-42d4-9204-2e55fb8ad3bd', 'Name': 'Fully Functional', 'Description': 'Allied Healthcare and Health resource website', 'Domain': 'fullyfunctional.com.au', 'Total_Funding': 'Not Registered', 'Num_Funding_Rounds': 'Not Registered', 'Total_Funding_Currency_Code': 'Not Registered', 'Founded_On': 'Not Registered', 'Employee_Count': 'unknown'}\n",
      "\n",
      "Result 3:\n",
      "WTSP-TV {'UUID': '1aee6e06-abcd-43e8-b6ea-36f53dd32123', 'Name': 'WTSP-TV', 'Description': 'WTSP-TV is a broadcast media company offering news, breaking news, weather, and live streaming services.', 'Domain': 'wtsp.com', 'Total_Funding': 'Not Registered', 'Num_Funding_Rounds': 'Not Registered', 'Total_Funding_Currency_Code': 'Not Registered', 'Founded_On': 'Not Registered', 'Employee_Count': '101-250'}\n"
     ]
    }
   ],
   "source": [
    "search1('Whiskey')"
   ]
  },
  {
   "cell_type": "markdown",
   "metadata": {
    "id": "0JTHT6amYkKI"
   },
   "source": [
    "#### Smart Search using fasttext, BM25 and NMSLIB"
   ]
  },
  {
   "cell_type": "code",
   "execution_count": 191,
   "metadata": {
    "id": "WzyWgN-ELJvy"
   },
   "outputs": [],
   "source": [
    "ft_model = FastText(\n",
    "    sg=1, # use skip-gram: usually gives better results\n",
    "    size=100, # embedding dimension (default)\n",
    "    window=10, # window size: 10 tokens before and 10 tokens after to get wider context\n",
    "    min_count=5, # only consider tokens with at least n occurrences in the corpus\n",
    "    negative=15, # negative subsampling: bigger than default to sample negative examples more\n",
    "    min_n=2, # min character n-gram\n",
    "    max_n=5 # max character n-gram\n",
    ")\n",
    "\n",
    "ft_model.build_vocab(tok_text)\n",
    "\n",
    "ft_model.train(\n",
    "    tok_text,\n",
    "    epochs=6,\n",
    "    total_examples=ft_model.corpus_count, \n",
    "    total_words=ft_model.corpus_total_words)\n",
    "\n",
    "ft_model.save('_fasttext.model')"
   ]
  },
  {
   "cell_type": "code",
   "execution_count": 192,
   "metadata": {
    "id": "gXqyXMsDLN1v"
   },
   "outputs": [],
   "source": [
    "ft_model = FastText.load('_fasttext.model')"
   ]
  },
  {
   "cell_type": "code",
   "execution_count": 193,
   "metadata": {
    "colab": {
     "base_uri": "https://localhost:8080/",
     "height": 403
    },
    "id": "zWtPzEScLToO",
    "outputId": "107aeda4-07a1-452c-df85-0c1259af1bed"
   },
   "outputs": [
    {
     "data": {
      "image/png": "[encoded data removed]",
      "text/plain": [
       "<Figure size 432x432 with 1 Axes>"
      ]
     },
     "metadata": {},
     "output_type": "display_data"
    }
   ],
   "source": [
    "with plt.xkcd():\n",
    "  pd.DataFrame(ft_model.wv.most_similar(\"entertainment\", topn=10, restrict_vocab=5000),columns=['Word','Score']).plot.barh(x='Word',figsize=(6,6),color=(0.3,0.7,0.7))"
   ]
  },
  {
   "cell_type": "code",
   "execution_count": 194,
   "metadata": {
    "id": "AUqeX3LVLpVI"
   },
   "outputs": [],
   "source": [
    "weighted_doc_vects = []\n",
    "words = []\n",
    "\n",
    "for i,doc in enumerate(tok_text):\n",
    "  doc_vector = []\n",
    "  for word in doc:\n",
    "    vector = ft_model.wv[word]\n",
    "    weight = (bm25.idf[word] * ((bm25.k1 + 1.0)*bm25.doc_freqs[i][word])) \n",
    "    / \n",
    "    (bm25.k1 * (1.0 - bm25.b + bm25.b *(bm25.doc_len[i]/bm25.avgdl))+bm25.doc_freqs[i][word])\n",
    "    weighted_vector = vector * weight\n",
    "    doc_vector.append(weighted_vector)\n",
    "  doc_vector_mean = np.mean(doc_vector,axis=0)\n",
    "  weighted_doc_vects.append(doc_vector_mean)\n",
    "  \n",
    "  pickle.dump( weighted_doc_vects, open( \"weighted_doc_vects.p\", \"wb\" ) ) #save the results to disc"
   ]
  },
  {
   "cell_type": "code",
   "execution_count": 195,
   "metadata": {
    "id": "Z1VjA3oGVrwO"
   },
   "outputs": [],
   "source": [
    "with open( \"weighted_doc_vects.p\", \"rb\" ) as f:\n",
    "  weighted_doc_vects = pickle.load(f)\n",
    "# create a random matrix to index\n",
    "data = np.vstack(weighted_doc_vects)\n",
    "\n",
    "# initialize a new index, using a HNSW index on Cosine Similarity - can take a couple of mins\n",
    "index = nmslib.init(method='hnsw', space='cosinesimil')\n",
    "index.addDataPointBatch(data)\n",
    "index.createIndex({'post': 2}, print_progress=True)"
   ]
  },
  {
   "cell_type": "code",
   "execution_count": 204,
   "metadata": {
    "id": "r4fNrtBhVwMm"
   },
   "outputs": [],
   "source": [
    "# querying the index:\n",
    "\n",
    "def search2(input):\n",
    "  Results = {}\n",
    "  input = input.lower().split()\n",
    "  query = [ft_model[vec] for vec in input]\n",
    "  query = np.mean(query,axis=0)\n",
    "  t0 = time.time()\n",
    "  ids, distances = index.knnQuery(query, k=5)\n",
    "  t1 = time.time()\n",
    "  print(f'Searched {df.shape[0]} records in {round(t1-t0,4) } seconds \\n')\n",
    "  for ind,j in zip(ids,distances):\n",
    "    i = df.text.values[ind]\n",
    "\n",
    "    Companies = {}\n",
    "    uuid = df[df['text']==i]['uuid'].values[0]\n",
    "    name = df[df['text']==i]['name'].values[0]\n",
    "    description = df[df['text']==i]['description'].values[0]\n",
    "    domain = df[df['text']==i]['domain'].values[0]\n",
    "    totalFunding = df[df['text']==i]['total_funding'].values[0]\n",
    "    num_funding_rounds = df[df['text']==i]['num_funding_rounds'].values[0]\n",
    "    Total_funding_currency_code = df[df['text']==i]['total_funding_currency_code'].values[0]\n",
    "    Founded_on = df[df['text']==i]['founded_on'].values[0]\n",
    "    employee_count = df[df['text']==i]['employee_count'].values[0]\n",
    "\n",
    "    Companies['UUID'] = uuid\n",
    "    Companies['Name']= name\n",
    "    Companies['Description']= description\n",
    "    Companies['Domain']= domain\n",
    "    Companies['Total_Funding']= totalFunding\n",
    "    Companies['Num_Funding_Rounds']= num_funding_rounds\n",
    "    Companies['Total_Funding_Currency_Code']= Total_funding_currency_code\n",
    "    Companies['Founded_On']= Founded_on\n",
    "    Companies['Employee_Count']= employee_count\n",
    "    # print(f\"\\nSearch result: {i} \\n\\nOrganization: {df[df['text']==val]['name']} \\n\")\n",
    "    # print(\"=================================\")\n",
    "\n",
    "    Results[name] = Companies\n",
    "  print(\"======Search Results=========\")\n",
    "  for m,n in enumerate(Results):\n",
    "    print(f\"\\nResult {m+1}:\")\n",
    "    print(n, Results[n])\n"
   ]
  },
  {
   "cell_type": "code",
   "execution_count": 205,
   "metadata": {
    "colab": {
     "base_uri": "https://localhost:8080/"
    },
    "id": "CBG71Xbhb6dw",
    "outputId": "cd96c8de-a4c8-4a39-80d3-593ac35f707c"
   },
   "outputs": [
    {
     "name": "stdout",
     "output_type": "stream",
     "text": [
      "Searched 100 records in 0.0005 seconds \n",
      "\n",
      "======Search Results=========\n",
      "\n",
      "Result 1:\n",
      "O Melhor Fornecedor {'UUID': '4e9b2382-1a16-af70-4d57-68be30036423', 'Name': 'O Melhor Fornecedor', 'Description': 'O Melhor Fornecedor is an online B2B marketplace that enables its users to find qualified suppliers to fulfill their needs. It enables them to receive quotes for free, compare prices, find suppliers within a limited location, and more.', 'Domain': 'Not Registered', 'Total_Funding': 'Not Registered', 'Num_Funding_Rounds': 'Not Registered', 'Total_Funding_Currency_Code': 'Not Registered', 'Founded_On': 'Not Registered', 'Employee_Count': 'Not Registered'}\n",
      "\n",
      "Result 2:\n",
      "Webstage {'UUID': '786293a8-f675-40d8-8516-430c8f4c236a', 'Name': 'Webstage', 'Description': 'WebStage is a Target Fuel technology that was born when experts in the fields of online marketing, website personalization and web analytics teamed up to make website marketing less “technical”. Websites have always presented a challenge for marketers who don’t have a computer science degree. Most of the time, someone else codes the website, someone else oversees the website, and someone else owns the website! WebStage provides easy ways to personalize content without delays or technical expertise. It allows any marketer to quickly and easily add or alter web content to keep on-site visitors informed and engaged. In minutes, marketers can launch personalized content on any number of pages for different target audiences - a task that typically takes weeks and cost thousands. ', 'Domain': 'Not Registered', 'Total_Funding': 'Not Registered', 'Num_Funding_Rounds': 'Not Registered', 'Total_Funding_Currency_Code': 'Not Registered', 'Founded_On': 'Not Registered', 'Employee_Count': 'Not Registered'}\n",
      "\n",
      "Result 3:\n",
      "Rhode Island Airport Corporation {'UUID': '532ec868-fed1-aa76-9668-506f1fed5f75', 'Name': 'Rhode Island Airport Corporation', 'Description': 'Rhode Island Airport Corporation provides airport services for several airlines.', 'Domain': 'pvdairport.com', 'Total_Funding': 'Not Registered', 'Num_Funding_Rounds': 'Not Registered', 'Total_Funding_Currency_Code': 'Not Registered', 'Founded_On': '1992-01-01', 'Employee_Count': '51-100'}\n",
      "\n",
      "Result 4:\n",
      "Kaffeen {'UUID': '8b8fe41c-07dc-4039-b311-022381af39f5', 'Name': 'Kaffeen', 'Description': 'Kaffeen mobile application is the first mobile application in Saudi Arabia that is specialized in online coffee ordering. It allows users to order/pre-order their coffee online and pick it up, with no extra charge, from the pick-up counter. If want to save time, or simply do not want to wait in line, Kaffeen is your go-to mobile application.', 'Domain': 'Not Registered', 'Total_Funding': 'Not Registered', 'Num_Funding_Rounds': 'Not Registered', 'Total_Funding_Currency_Code': 'Not Registered', 'Founded_On': 'Not Registered', 'Employee_Count': 'Not Registered'}\n",
      "\n",
      "Result 5:\n",
      "The Fashion Institute of Design & Merchandising {'UUID': '203a99b9-0386-b38f-24d3-24bc81eab8c1', 'Name': 'The Fashion Institute of Design & Merchandising', 'Description': 'To make a living out of your personal creativity in the worlds of fashion, interior design or entertainment, The Fashion Institute of Design & Merchandising in San Francisco, California, may have the academics for you. To continually inspire you, the institute provides a number of exciting college life opportunities. Vibrant exhibits from professional artists, as well as students, are showcased in FIDM’s museums and galleries, while the Student Activities department coordinates many fun social events for students, from fundraising barbecues to book signings. The programs offered at FIDM include more than 18 choices of major, such as:   * Account Executive   * Creative Director   * Product Developer   * Set Designer   * Fashion Knitwear Design FIDM’s Career Center offers students plenty of opportunities to meet with recruiting members from national businesses through on-campus job fairs. Faculty and staff will also help you develop resume writing and interviewing skills to help you succeed in impressing potential employers. Upon graduation, students become part of FIDM’s enormous international network, which provides an incredible list of job openings in the state, across the nation and all over the world. Students interested in applying must submit an official high school transcript, three letters of recommendation, an admissions essay and a professional portfolio. For more information on what type of content is required for your portfolio, please contact the school. FIDM offers financial aid programs through FIDM scholarships, Pell grants and California State tuition assistance programs to students who file a FAFSA and demonstrate need.', 'Domain': 'Not Registered', 'Total_Funding': 'Not Registered', 'Num_Funding_Rounds': 'Not Registered', 'Total_Funding_Currency_Code': 'Not Registered', 'Founded_On': 'Not Registered', 'Employee_Count': 'Not Registered'}\n"
     ]
    },
    {
     "name": "stderr",
     "output_type": "stream",
     "text": [
      "/usr/local/lib/python3.7/dist-packages/ipykernel_launcher.py:6: DeprecationWarning: Call to deprecated `__getitem__` (Method will be removed in 4.0.0, use self.wv.__getitem__() instead).\n",
      "  \n"
     ]
    }
   ],
   "source": [
    "search2('Melhor')"
   ]
  },
  {
   "cell_type": "code",
   "execution_count": 206,
   "metadata": {
    "colab": {
     "base_uri": "https://localhost:8080/"
    },
    "id": "VL_srVJ1aEcK",
    "outputId": "075508f3-782b-413d-d6f5-587ee8a92876"
   },
   "outputs": [
    {
     "name": "stdout",
     "output_type": "stream",
     "text": [
      "Searched 100 records in 0.0001 seconds \n",
      "\n",
      "======Search Results=========\n",
      "\n",
      "Result 1:\n",
      "Meridian Entertainment Group {'UUID': 'b531d0a8-52dd-4189-91d1-3d7432d78d71', 'Name': 'Meridian Entertainment Group', 'Description': 'Meridian Entertainment Group provides with event and entertainment consultation, programming and management services in Michigan.', 'Domain': 'meridianconcerts.com', 'Total_Funding': 'Not Registered', 'Num_Funding_Rounds': 'Not Registered', 'Total_Funding_Currency_Code': 'Not Registered', 'Founded_On': 'Not Registered', 'Employee_Count': '1-10'}\n",
      "\n",
      "Result 2:\n",
      "SGM Law Group, Law Offices of Shilpa Malik {'UUID': '040b8bfa-3262-8af7-47dd-50b1ef77b97e', 'Name': 'SGM Law Group, Law Offices of Shilpa Malik', 'Description': 'SGM Law Group is a well-known immigration firm in Fort Lauderdale, FL delivering the most up-to-date immigration services', 'Domain': 'immi-usa.com', 'Total_Funding': 'Not Registered', 'Num_Funding_Rounds': 'Not Registered', 'Total_Funding_Currency_Code': 'Not Registered', 'Founded_On': 'Not Registered', 'Employee_Count': '1-10'}\n",
      "\n",
      "Result 3:\n",
      "Tech Groupz {'UUID': '3e8c1d4f-9e20-b49a-d02a-f39a0cd0c87c', 'Name': 'Tech Groupz', 'Description': 'Tech Groupz is a Google apps authorized dealer running their show from last 5 years with dedication and this dedication is shown when they talk about the number of clients. Till Now Tech Groupz have more than 500 clients in all over India who is fully satisfied with their service. In coming time company is going to expand their service with latest technology as they always keep themselves according to trend.', 'Domain': 'Not Registered', 'Total_Funding': 'Not Registered', 'Num_Funding_Rounds': 'Not Registered', 'Total_Funding_Currency_Code': 'Not Registered', 'Founded_On': 'Not Registered', 'Employee_Count': 'Not Registered'}\n",
      "\n",
      "Result 4:\n",
      "Rocketick {'UUID': 'fae6772f-76e4-7725-58a4-643ec21a5e16', 'Name': 'Rocketick', 'Description': 'Rocketick, founded in 2008 by a group of hardware-assisted-acceleration experts, is a pioneer in GPU-based simulation acceleration for chip verification. Its first product, RocketSimâ„¢, solves functional verification bottlenecks by complementing simulators with a GPU-based acceleration solution that offers 10x faster simulations for highly complex designs. RocketSim is used today by several semiconductor customers.', 'Domain': 'Not Registered', 'Total_Funding': 'Not Registered', 'Num_Funding_Rounds': 'Not Registered', 'Total_Funding_Currency_Code': 'Not Registered', 'Founded_On': 'Not Registered', 'Employee_Count': 'Not Registered'}\n",
      "\n",
      "Result 5:\n",
      "DimDrop {'UUID': '7cd3d801-9379-c555-d145-e237a5120dbe', 'Name': 'DimDrop', 'Description': \"DimDrop's technology enables teams to easily create and track all mobile communications with customers.\", 'Domain': 'dimdrop.com', 'Total_Funding': 'Not Registered', 'Num_Funding_Rounds': 'Not Registered', 'Total_Funding_Currency_Code': 'Not Registered', 'Founded_On': '2013-07-09', 'Employee_Count': '1-10'}\n"
     ]
    },
    {
     "name": "stderr",
     "output_type": "stream",
     "text": [
      "/usr/local/lib/python3.7/dist-packages/ipykernel_launcher.py:6: DeprecationWarning: Call to deprecated `__getitem__` (Method will be removed in 4.0.0, use self.wv.__getitem__() instead).\n",
      "  \n"
     ]
    }
   ],
   "source": [
    "search2('Meridian groups')"
   ]
  }
 ],
 "metadata": {
  "colab": {
   "collapsed_sections": [],
   "name": "ESP.ipynb",
   "provenance": []
  },
  "kernelspec": {
   "display_name": "Python 3",
   "language": "python",
   "name": "python3"
  },
  "language_info": {
   "codemirror_mode": {
    "name": "ipython",
    "version": 3
   },
   "file_extension": ".py",
   "mimetype": "text/x-python",
   "name": "python",
   "nbconvert_exporter": "python",
   "pygments_lexer": "ipython3",
   "version": "3.8.8"
  }
 },
 "nbformat": 4,
 "nbformat_minor": 1
}
