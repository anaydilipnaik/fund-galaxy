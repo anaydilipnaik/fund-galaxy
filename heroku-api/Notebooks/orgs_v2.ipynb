{
 "cells": [
  {
   "cell_type": "code",
   "execution_count": 277,
   "id": "339a7ef6",
   "metadata": {},
   "outputs": [],
   "source": [
    "import pandas as pd\n",
    "import matplotlib.pyplot as plt\n",
    "import seaborn as sns\n",
    "from ast import literal_eval\n",
    "pd.set_option('display.max_rows', 500)\n",
    "pd.set_option('display.max_columns', 500)"
   ]
  },
  {
   "cell_type": "code",
   "execution_count": 323,
   "id": "1691c9ef",
   "metadata": {},
   "outputs": [],
   "source": [
    "org1 = pd.read_csv(r'data/organizations.csv')\n",
    "people = pd.read_csv(r'data/people.csv')\n",
    "founder = pd.read_csv(r'data/people_descriptions.csv')"
   ]
  },
  {
   "cell_type": "code",
   "execution_count": 324,
   "id": "83c363ee",
   "metadata": {
    "scrolled": true
   },
   "outputs": [],
   "source": [
    "# org1.head()"
   ]
  },
  {
   "cell_type": "code",
   "execution_count": 325,
   "id": "5f40ed3c",
   "metadata": {
    "scrolled": true
   },
   "outputs": [],
   "source": [
    "# org1['category_groups_list'].value_counts()"
   ]
  },
  {
   "cell_type": "code",
   "execution_count": 326,
   "id": "ca3f28ea",
   "metadata": {
    "scrolled": false
   },
   "outputs": [
    {
     "data": {
      "text/plain": [
       "Index(['uuid', 'name', 'type', 'permalink', 'cb_url', 'rank', 'created_at',\n",
       "       'updated_at', 'legal_name', 'roles', 'domain', 'homepage_url',\n",
       "       'country_code', 'state_code', 'region', 'city', 'address',\n",
       "       'postal_code', 'status', 'short_description', 'category_list',\n",
       "       'category_groups_list', 'num_funding_rounds', 'total_funding_usd',\n",
       "       'total_funding', 'total_funding_currency_code', 'founded_on',\n",
       "       'last_funding_on', 'closed_on', 'employee_count', 'email', 'phone',\n",
       "       'facebook_url', 'linkedin_url', 'twitter_url', 'logo_url', 'alias1',\n",
       "       'alias2', 'alias3', 'primary_role', 'num_exits', 'revenue_range'],\n",
       "      dtype='object')"
      ]
     },
     "execution_count": 326,
     "metadata": {},
     "output_type": "execute_result"
    }
   ],
   "source": [
    "org1.columns"
   ]
  },
  {
   "cell_type": "code",
   "execution_count": 327,
   "id": "bbb6d1d6",
   "metadata": {},
   "outputs": [],
   "source": [
    "# people.head()"
   ]
  },
  {
   "cell_type": "code",
   "execution_count": 328,
   "id": "a766c174",
   "metadata": {},
   "outputs": [
    {
     "data": {
      "text/plain": [
       "Index(['uuid', 'name', 'type', 'permalink', 'cb_url', 'rank', 'created_at',\n",
       "       'updated_at', 'first_name', 'last_name', 'gender', 'country_code',\n",
       "       'state_code', 'region', 'city', 'featured_job_organization_uuid',\n",
       "       'featured_job_organization_name', 'featured_job_title', 'facebook_url',\n",
       "       'linkedin_url', 'twitter_url', 'logo_url'],\n",
       "      dtype='object')"
      ]
     },
     "execution_count": 328,
     "metadata": {},
     "output_type": "execute_result"
    }
   ],
   "source": [
    "people.columns"
   ]
  },
  {
   "cell_type": "code",
   "execution_count": 329,
   "id": "4b346fc1",
   "metadata": {},
   "outputs": [
    {
     "data": {
      "text/plain": [
       "Index(['uuid', 'name', 'type', 'permalink', 'cb_url', 'rank', 'created_at',\n",
       "       'updated_at', 'description'],\n",
       "      dtype='object')"
      ]
     },
     "execution_count": 329,
     "metadata": {},
     "output_type": "execute_result"
    }
   ],
   "source": [
    "founder.columns"
   ]
  },
  {
   "cell_type": "code",
   "execution_count": 330,
   "id": "38a7cfbf",
   "metadata": {},
   "outputs": [],
   "source": [
    "col = ['id','domain','status','categoryList','categorygrpList','email','phone','countrycode','statecode','city','address',\n",
    "           'description','employeeCount','foundedOn','founders','homepageUrl','linkedin','facebook','name','numFundingrounds','password',\n",
    "           'people','revenuerange','totalFundingUsd']"
   ]
  },
  {
   "cell_type": "code",
   "execution_count": 331,
   "id": "1a13542b",
   "metadata": {},
   "outputs": [],
   "source": [
    "df = pd.DataFrame()"
   ]
  },
  {
   "cell_type": "code",
   "execution_count": 332,
   "id": "79d306b4",
   "metadata": {},
   "outputs": [],
   "source": [
    "df['id'] = org1['uuid']\n",
    "df['domain'] = org1['domain']\n",
    "df['status'] = org1['status']\n",
    "df['categoryList'] = org1['category_list']\n",
    "df['categorygrpList'] = org1['category_groups_list']\n",
    "df['email'] = org1['email']\n",
    "df['phone'] = org1['phone']\n",
    "df['countrycode'] = org1['country_code']\n",
    "df['statecode'] = org1['state_code']\n",
    "df['city'] = org1['city']\n",
    "df['address'] = org1['address']\n",
    "df['description'] = org1['short_description']\n",
    "df['employeeCount'] = org1['employee_count']\n",
    "df['foundedOn'] = org1['founded_on']\n",
    "df['founders'] = founder['name']\n",
    "df['homepageUrl'] = org1['homepage_url']\n",
    "df['linkedin'] = org1['linkedin_url']\n",
    "df['facebook'] = org1['facebook_url']\n",
    "df['name'] = org1['name']\n",
    "df['numFundingrounds'] = org1['num_funding_rounds']\n",
    "df['people'] = people['name']\n",
    "df['revenuerange'] = org1['revenue_range']\n",
    "df['totalFundingUsd'] = org1['total_funding_usd']\n",
    "df['password'] = \"\" "
   ]
  },
  {
   "cell_type": "code",
   "execution_count": 333,
   "id": "f3058013",
   "metadata": {},
   "outputs": [],
   "source": [
    "df['categoryList'] = df['categoryList'].fillna('Education, Health')\n",
    "df['categorygrpList'] = df['categorygrpList'].fillna('Events, Media')\n",
    "\n",
    "# df['categoryList'] = df['categoryList'].str.split(',')\n",
    "# df['founders'] = df['founders'].str.split(',')\n",
    "# df['people'] = df['people'].str.split(',')"
   ]
  },
  {
   "cell_type": "code",
   "execution_count": 334,
   "id": "c855006e",
   "metadata": {},
   "outputs": [],
   "source": [
    "# df.to_csv('orgs.csv')"
   ]
  },
  {
   "cell_type": "code",
   "execution_count": null,
   "id": "f23bea0c",
   "metadata": {},
   "outputs": [],
   "source": []
  }
 ],
 "metadata": {
  "kernelspec": {
   "display_name": "Python 3",
   "language": "python",
   "name": "python3"
  },
  "language_info": {
   "codemirror_mode": {
    "name": "ipython",
    "version": 3
   },
   "file_extension": ".py",
   "mimetype": "text/x-python",
   "name": "python",
   "nbconvert_exporter": "python",
   "pygments_lexer": "ipython3",
   "version": "3.8.8"
  }
 },
 "nbformat": 4,
 "nbformat_minor": 5
}
